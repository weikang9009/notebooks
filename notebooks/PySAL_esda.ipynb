{
 "cells": [
  {
   "cell_type": "markdown",
   "metadata": {},
   "source": [
    "# Contributors to this notebook\n",
    "\n",
    "* Daniel Arribas-Bel [@darribas](http://twitter.com/darribas)\n",
    "* Serge Rey http://sjrey.org"
   ]
  },
  {
   "cell_type": "code",
   "execution_count": 1,
   "metadata": {
    "collapsed": false
   },
   "outputs": [],
   "source": [
    "%matplotlib inline\n",
    "import pysal as ps  # 1.5 or higher\n",
    "import numpy as np  # 1.7 or higher\n",
    "import pandas as pd # 0.10 or higher\n",
    "from matplotlib.pyplot import *"
   ]
  },
  {
   "cell_type": "markdown",
   "metadata": {},
   "source": [
    "# Exploratory Spatial Data Analysis (ESDA)"
   ]
  },
  {
   "cell_type": "markdown",
   "metadata": {},
   "source": [
    "## Global spatial autocorrelation"
   ]
  },
  {
   "cell_type": "markdown",
   "metadata": {},
   "source": [
    "Most spatial data are spatially autocorrelated:"
   ]
  },
  {
   "cell_type": "markdown",
   "metadata": {},
   "source": [
    "* [First law of geography:](http://en.wikipedia.org/wiki/Tobler's_first_law_of_geography)\n",
    "\n",
    "*\"Everything is related to everything else, but near things are more related than distant things\"*\n",
    "\n",
    "W. Tobler"
   ]
  },
  {
   "cell_type": "markdown",
   "metadata": {},
   "source": [
    "* M. Goodchild: *\"Only Hell is spatially random\"*"
   ]
  },
  {
   "cell_type": "markdown",
   "metadata": {},
   "source": [
    "### Positive spatial autocorrelation"
   ]
  },
  {
   "cell_type": "code",
   "execution_count": 2,
   "metadata": {
    "collapsed": false
   },
   "outputs": [
    {
     "data": {
      "text/plain": [
       "array([[ 0,  1,  2,  3,  4],\n",
       "       [ 5,  6,  7,  8,  9],\n",
       "       [10, 11, 12, 13, 14],\n",
       "       [15, 16, 17, 18, 19],\n",
       "       [20, 21, 22, 23, 24]])"
      ]
     },
     "execution_count": 2,
     "metadata": {},
     "output_type": "execute_result"
    }
   ],
   "source": [
    "yp = np.arange(25)\n",
    "yp.shape = (5, 5)\n",
    "yp"
   ]
  },
  {
   "cell_type": "code",
   "execution_count": 3,
   "metadata": {
    "collapsed": false
   },
   "outputs": [
    {
     "data": {
      "text/plain": [
       "<matplotlib.colorbar.Colorbar at 0x58fa861b70>"
      ]
     },
     "execution_count": 3,
     "metadata": {},
     "output_type": "execute_result"
    },
    {
     "data": {
      "image/png": "[encoded data removed]",
      "text/plain": [
       "<matplotlib.figure.Figure at 0x58fa861b00>"
      ]
     },
     "metadata": {},
     "output_type": "display_data"
    }
   ],
   "source": [
    "matshow(yp, cmap=cm.gray_r)\n",
    "colorbar()"
   ]
  },
  {
   "cell_type": "markdown",
   "metadata": {},
   "source": [
    "### Perfect negative spatial autocorrelation"
   ]
  },
  {
   "cell_type": "code",
   "execution_count": 4,
   "metadata": {
    "collapsed": false
   },
   "outputs": [],
   "source": [
    "yn = np.zeros((25,))\n",
    "ids = range(0,25,2)\n",
    "yn[ids] = 1\n",
    "yn.shape = (5,5)"
   ]
  },
  {
   "cell_type": "code",
   "execution_count": 5,
   "metadata": {
    "collapsed": false
   },
   "outputs": [
    {
     "data": {
      "text/plain": [
       "<matplotlib.image.AxesImage at 0x58fde020f0>"
      ]
     },
     "execution_count": 5,
     "metadata": {},
     "output_type": "execute_result"
    },
    {
     "data": {
      "image/png": "[encoded data removed]",
      "text/plain": [
       "<matplotlib.figure.Figure at 0x58fa861438>"
      ]
     },
     "metadata": {},
     "output_type": "display_data"
    }
   ],
   "source": [
    "matshow(yn, cmap=cm.gray)"
   ]
  },
  {
   "cell_type": "markdown",
   "metadata": {},
   "source": [
    "### Spatial randomness"
   ]
  },
  {
   "cell_type": "code",
   "execution_count": 6,
   "metadata": {
    "collapsed": false
   },
   "outputs": [
    {
     "data": {
      "text/plain": [
       "array([[18, 10, 13,  0,  3],\n",
       "       [ 8,  4, 16, 14, 12],\n",
       "       [21,  5, 11, 19, 22],\n",
       "       [ 2,  6, 23, 15,  7],\n",
       "       [20,  9,  1, 17, 24]])"
      ]
     },
     "execution_count": 6,
     "metadata": {},
     "output_type": "execute_result"
    }
   ],
   "source": [
    "yr = np.arange(25)\n",
    "#Shuffle the data randomly\n",
    "np.random.shuffle(yr)\n",
    "yr.shape = (5, 5)\n",
    "yr"
   ]
  },
  {
   "cell_type": "code",
   "execution_count": 7,
   "metadata": {
    "collapsed": false
   },
   "outputs": [
    {
     "data": {
      "text/plain": [
       "<matplotlib.colorbar.Colorbar at 0x58fddd3cc0>"
      ]
     },
     "execution_count": 7,
     "metadata": {},
     "output_type": "execute_result"
    },
    {
     "data": {
      "image/png": "[encoded data removed]",
      "text/plain": [
       "<matplotlib.figure.Figure at 0x58fddd3ac8>"
      ]
     },
     "metadata": {},
     "output_type": "display_data"
    }
   ],
   "source": [
    "matshow(yr, cmap=cm.gray_r)\n",
    "colorbar()"
   ]
  },
  {
   "cell_type": "markdown",
   "metadata": {},
   "source": [
    "### Moran's I"
   ]
  },
  {
   "cell_type": "markdown",
   "metadata": {},
   "source": [
    "This is the most commonly used statistic to test spatial autocorrelation (randomness rather) in continuous data."
   ]
  },
  {
   "cell_type": "code",
   "execution_count": 8,
   "metadata": {
    "collapsed": false
   },
   "outputs": [],
   "source": [
    "w = ps.lat2W(5, 5)"
   ]
  },
  {
   "cell_type": "code",
   "execution_count": 9,
   "metadata": {
    "collapsed": false
   },
   "outputs": [],
   "source": [
    "mr = ps.Moran(yr.flatten(), w)"
   ]
  },
  {
   "cell_type": "code",
   "execution_count": 10,
   "metadata": {
    "collapsed": false
   },
   "outputs": [
    {
     "data": {
      "text/plain": [
       "-0.10935897435897435"
      ]
     },
     "execution_count": 10,
     "metadata": {},
     "output_type": "execute_result"
    }
   ],
   "source": [
    "mr.I"
   ]
  },
  {
   "cell_type": "code",
   "execution_count": 11,
   "metadata": {
    "collapsed": false
   },
   "outputs": [
    {
     "data": {
      "text/plain": [
       "0.65229987987166993"
      ]
     },
     "execution_count": 11,
     "metadata": {},
     "output_type": "execute_result"
    }
   ],
   "source": [
    "mr.p_norm"
   ]
  },
  {
   "cell_type": "code",
   "execution_count": 12,
   "metadata": {
    "collapsed": false
   },
   "outputs": [
    {
     "data": {
      "text/plain": [
       "0.34999999999999998"
      ]
     },
     "execution_count": 12,
     "metadata": {},
     "output_type": "execute_result"
    }
   ],
   "source": [
    "mr.p_sim"
   ]
  },
  {
   "cell_type": "code",
   "execution_count": 13,
   "metadata": {
    "collapsed": false
   },
   "outputs": [
    {
     "data": {
      "text/plain": [
       "array([ -1.40769231e-01,  -7.83333333e-02,   6.22435897e-02,\n",
       "         1.75320513e-01,   3.39102564e-02,  -2.71474359e-01,\n",
       "        -2.89102564e-02,  -1.92179487e-01,  -1.87179487e-01,\n",
       "        -1.92307692e-01,  -1.22820513e-01,  -6.73076923e-03,\n",
       "         1.72179487e-01,   7.08333333e-02,  -6.95512821e-02,\n",
       "        -1.87179487e-02,  -1.01153846e-01,  -1.84423077e-01,\n",
       "        -6.87179487e-02,  -1.29807692e-01,  -7.28846154e-02,\n",
       "        -1.00961538e-01,   2.38782051e-01,  -8.32051282e-02,\n",
       "         1.24935897e-01,  -4.76923077e-02,  -2.32756410e-01,\n",
       "        -4.33974359e-02,  -8.66666667e-02,   6.96794872e-02,\n",
       "        -1.13461538e-01,  -1.76282051e-02,   2.09102564e-01,\n",
       "        -2.06410256e-02,  -6.25641026e-02,   1.07115385e-01,\n",
       "         1.08717949e-01,  -5.87820513e-02,  -2.60320513e-01,\n",
       "        -2.04423077e-01,   6.98717949e-03,   3.58974359e-02,\n",
       "         6.55769231e-02,  -3.80833333e-01,  -1.61602564e-01,\n",
       "        -2.30512821e-01,  -3.89743590e-02,  -2.00641026e-01,\n",
       "         4.03846154e-02,  -1.62500000e-01,   6.11538462e-02,\n",
       "         1.12948718e-01,  -1.68653846e-01,  -9.80128205e-02,\n",
       "         1.08974359e-02,  -7.85256410e-02,  -9.32051282e-02,\n",
       "        -2.51410256e-01,  -8.26923077e-02,  -5.37179487e-02,\n",
       "        -2.14166667e-01,   3.92948718e-02,  -1.05641026e-01,\n",
       "        -1.27884615e-01,   1.30833333e-01,  -1.18653846e-01,\n",
       "         4.27564103e-02,  -2.26923077e-02,  -1.36025641e-01,\n",
       "         1.33653846e-01,   2.17884615e-01,  -5.24358974e-02,\n",
       "        -3.65384615e-03,  -3.98846154e-01,   5.25000000e-02,\n",
       "         2.14743590e-02,  -3.14743590e-02,  -1.84294872e-01,\n",
       "        -5.03846154e-02,  -8.11538462e-02,  -1.53141026e-01,\n",
       "         2.54871795e-01,   5.82692308e-02,   5.83333333e-03,\n",
       "        -2.30769231e-02,   2.52115385e-01,  -2.48012821e-01,\n",
       "        -9.00641026e-02,  -3.78974359e-01,   1.48653846e-01,\n",
       "        -1.27628205e-01,  -1.65256410e-01,   1.87820513e-01,\n",
       "         2.63205128e-01,  -8.73717949e-02,  -1.49166667e-01,\n",
       "         8.04487179e-02,  -2.31089744e-01,  -3.49358974e-02,\n",
       "         8.88461538e-02,  -9.35256410e-02,  -1.51217949e-01,\n",
       "        -2.10192308e-01,   2.95705128e-01,   4.85897436e-02,\n",
       "        -2.53653846e-01,  -1.27051282e-01,  -2.15448718e-01,\n",
       "        -5.16025641e-02,  -1.71794872e-02,   2.44230769e-02,\n",
       "        -1.26923077e-01,  -7.08333333e-02,   2.26282051e-02,\n",
       "        -2.75000000e-01,  -5.27564103e-02,  -1.76794872e-01,\n",
       "         2.63589744e-01,  -2.26474359e-01,  -2.04615385e-01,\n",
       "        -1.56025641e-01,   3.17820513e-01,   6.63461538e-02,\n",
       "         1.08974359e-02,   1.65897436e-01,   3.03846154e-01,\n",
       "        -3.58717949e-01,   8.07692308e-03,   9.38461538e-02,\n",
       "        -4.17307692e-02,  -4.99358974e-02,  -1.28205128e-03,\n",
       "        -1.23205128e-01,   6.01923077e-02,  -7.05128205e-04,\n",
       "        -5.65384615e-02,  -3.69230769e-02,   5.14743590e-02,\n",
       "        -2.08653846e-01,  -2.42564103e-01,   6.37820513e-02,\n",
       "         2.72435897e-02,  -7.05128205e-02,  -1.21153846e-02,\n",
       "         3.26474359e-01,  -1.19807692e-01,   8.08974359e-02,\n",
       "         8.85256410e-02,   2.12820513e-02,   6.67307692e-02,\n",
       "        -3.20000000e-01,   1.34615385e-02,   2.66025641e-02,\n",
       "        -1.79487179e-03,  -2.98076923e-02,  -3.71794872e-02,\n",
       "        -1.98717949e-02,   1.30128205e-02,  -1.21858974e-01,\n",
       "         6.33333333e-02,  -1.51538462e-01,   1.04487179e-02,\n",
       "         4.86538462e-02,   3.46153846e-02,  -1.55384615e-01,\n",
       "        -7.30128205e-02,   9.01923077e-02,  -1.08333333e-02,\n",
       "        -2.10961538e-01,  -2.41666667e-02,  -1.12115385e-01,\n",
       "        -1.43397436e-01,   1.50000000e-02,   1.67692308e-01,\n",
       "        -2.61538462e-02,  -2.75833333e-01,   1.82371795e-01,\n",
       "        -1.05000000e-01,  -2.49423077e-01,  -1.22820513e-01,\n",
       "         1.07820513e-01,  -2.40448718e-01,  -1.91217949e-01,\n",
       "        -3.21794872e-01,   1.16410256e-01,  -3.10448718e-01,\n",
       "         1.91794872e-01,   1.32307692e-01,  -7.67307692e-02,\n",
       "        -1.93717949e-01,  -8.39743590e-02,   2.14038462e-01,\n",
       "        -1.23525641e-01,   3.72435897e-02,  -2.30897436e-01,\n",
       "        -3.31089744e-01,   1.06410256e-01,  -1.28717949e-01,\n",
       "        -3.95512821e-02,  -5.78846154e-02,  -4.82051282e-02,\n",
       "        -3.29551282e-01,   1.10576923e-01,  -2.78205128e-01,\n",
       "         2.82243590e-01,  -3.58653846e-01,   3.14102564e-02,\n",
       "        -2.30320513e-01,  -2.71794872e-01,   4.36538462e-02,\n",
       "         2.23782051e-01,  -1.58974359e-02,  -1.78910256e-01,\n",
       "         1.03141026e-01,  -1.96666667e-01,   3.31410256e-01,\n",
       "         1.16794872e-01,  -8.31410256e-02,   1.42820513e-01,\n",
       "         1.49679487e-01,  -1.22115385e-01,  -1.36153846e-01,\n",
       "         1.26923077e-02,   6.02564103e-02,   6.42307692e-02,\n",
       "         1.23653846e-01,   2.86025641e-01,   8.89743590e-02,\n",
       "        -1.02500000e-01,  -1.17371795e-01,  -2.03782051e-01,\n",
       "         9.42307692e-02,  -6.06410256e-02,  -1.67948718e-02,\n",
       "        -1.63846154e-01,  -1.01410256e-01,   1.52884615e-01,\n",
       "         1.61923077e-01,   1.62243590e-01,   7.69230769e-03,\n",
       "         1.15320513e-01,  -2.27692308e-01,  -1.18910256e-01,\n",
       "        -8.57051282e-02,   7.16025641e-02,  -4.85897436e-02,\n",
       "         4.19230769e-02,  -4.64935897e-01,   1.66153846e-01,\n",
       "         7.56410256e-03,  -3.08269231e-01,  -2.17115385e-01,\n",
       "        -1.00576923e-01,  -1.68910256e-01,  -2.51538462e-01,\n",
       "        -1.06666667e-01,  -5.80769231e-02,  -1.81666667e-01,\n",
       "        -9.86538462e-02,  -3.89743590e-02,  -2.64807692e-01,\n",
       "        -1.91346154e-01,   2.92500000e-01,  -5.14743590e-02,\n",
       "        -2.28525641e-01,   1.09294872e-01,  -1.35384615e-01,\n",
       "        -3.31346154e-01,  -1.86666667e-01,   3.38461538e-02,\n",
       "        -1.41538462e-01,  -4.93589744e-03,  -1.12115385e-01,\n",
       "        -1.47179487e-01,  -5.41666667e-02,  -1.31602564e-01,\n",
       "        -5.67948718e-02,   1.34166667e-01,  -3.03076923e-01,\n",
       "         3.33333333e-03,  -1.12500000e-01,  -2.71153846e-02,\n",
       "        -1.00705128e-01,  -4.03846154e-02,  -1.00576923e-01,\n",
       "        -5.83974359e-02,  -2.19358974e-01,  -1.34679487e-01,\n",
       "        -4.89743590e-02,  -1.37564103e-01,  -5.00641026e-02,\n",
       "        -6.65384615e-02,  -3.65384615e-03,   9.35897436e-02,\n",
       "        -1.46538462e-01,  -1.46538462e-01,  -1.54423077e-01,\n",
       "         9.90384615e-02,  -1.83717949e-01,  -9.15384615e-02,\n",
       "        -9.03846154e-03,  -1.23910256e-01,  -9.33974359e-02,\n",
       "        -9.39102564e-02,  -2.66858974e-01,  -5.07692308e-02,\n",
       "        -3.68589744e-02,  -1.81410256e-02,  -7.70512821e-02,\n",
       "        -1.24294872e-01,  -4.50320513e-01,   1.28141026e-01,\n",
       "        -5.23076923e-02,   8.39743590e-03,   5.57692308e-03,\n",
       "        -2.26923077e-02,  -4.84615385e-02,  -9.44871795e-02,\n",
       "        -1.73782051e-01,   2.00448718e-01,  -6.92948718e-02,\n",
       "         6.41025641e-02,  -3.16025641e-02,  -2.69038462e-01,\n",
       "        -3.04807692e-01,  -1.83461538e-01,  -1.95384615e-01,\n",
       "        -8.03205128e-02,  -2.46410256e-01,  -1.78333333e-01,\n",
       "         7.36538462e-02,  -1.60705128e-01,  -2.68717949e-01,\n",
       "        -7.05769231e-02,  -2.03782051e-01,  -1.00192308e-01,\n",
       "        -3.28846154e-02,  -2.51474359e-01,  -4.39102564e-02,\n",
       "        -9.06410256e-02,  -5.10897436e-02,  -4.69230769e-02,\n",
       "        -8.53205128e-02,   1.17371795e-01,   6.45512821e-02,\n",
       "        -1.92435897e-01,  -2.65000000e-01,   1.08910256e-01,\n",
       "        -2.05448718e-01,  -1.99294872e-01,  -2.09743590e-01,\n",
       "         1.28397436e-01,  -1.81987179e-01,  -9.14102564e-02,\n",
       "        -6.04487179e-02,  -2.68012821e-01,  -2.33333333e-02,\n",
       "        -1.92243590e-01,   1.42115385e-01,   1.89743590e-01,\n",
       "        -6.99358974e-02,   4.13461538e-02,  -2.24679487e-01,\n",
       "        -3.30769231e-02,   8.29487179e-02,   1.13782051e-01,\n",
       "         9.16666667e-02,   2.37179487e-02,   2.80641026e-01,\n",
       "        -1.41217949e-01,  -1.90448718e-01,  -1.25641026e-01,\n",
       "        -6.50641026e-02,  -1.92051282e-01,  -2.50705128e-01,\n",
       "        -2.95064103e-01,   2.37435897e-01,  -2.70448718e-01,\n",
       "         1.91794872e-01,   4.89102564e-02,  -8.53846154e-02,\n",
       "        -9.89743590e-02,  -1.27564103e-01,  -2.09487179e-01,\n",
       "        -5.75641026e-02,   3.02564103e-02,   1.65833333e-01,\n",
       "         5.30192308e-01,  -1.14038462e-01,  -1.18397436e-01,\n",
       "        -3.28782051e-01,  -3.10897436e-02,  -3.15192308e-01,\n",
       "        -5.35897436e-02,   9.67948718e-03,  -6.59615385e-02,\n",
       "        -4.29487179e-02,   7.05128205e-03,   1.37307692e-01,\n",
       "        -1.90384615e-01,  -1.03910256e-01,  -8.85256410e-02,\n",
       "        -8.33333333e-03,  -1.57115385e-01,  -6.41025641e-02,\n",
       "        -4.87820513e-02,  -2.19038462e-01,   9.66666667e-02,\n",
       "         8.30128205e-02,  -1.25128205e-01,   1.66602564e-01,\n",
       "        -4.03846154e-02,   2.59102564e-01,   2.74358974e-02,\n",
       "        -1.51666667e-01,   2.59743590e-01,   6.47435897e-02,\n",
       "         8.21153846e-02,  -1.68269231e-01,  -1.17179487e-01,\n",
       "        -1.30769231e-01,   3.26217949e-01,  -1.67756410e-01,\n",
       "         2.13846154e-01,  -1.02756410e-01,   6.87179487e-02,\n",
       "        -9.37179487e-02,   1.73076923e-02,  -5.00000000e-02,\n",
       "         6.73076923e-02,   2.57115385e-01,  -2.72179487e-01,\n",
       "        -1.16794872e-01,  -3.85897436e-02,  -3.48717949e-02,\n",
       "        -2.33653846e-01,  -1.94038462e-01,   8.17948718e-02,\n",
       "         9.30128205e-02,  -5.98076923e-02,   1.39102564e-02,\n",
       "         5.05769231e-02,   1.26474359e-01,   2.88012821e-01,\n",
       "        -3.91025641e-02,   1.42884615e-01,  -2.19615385e-01,\n",
       "        -3.15128205e-01,  -5.53205128e-02,  -1.22051282e-01,\n",
       "         7.62179487e-02,  -3.89423077e-01,   1.89871795e-01,\n",
       "         1.23012821e-01,  -4.82692308e-02,  -2.12692308e-01,\n",
       "        -2.69871795e-02,  -1.60705128e-01,  -5.86538462e-02,\n",
       "         4.50000000e-02,   4.66025641e-02,  -1.23910256e-01,\n",
       "        -1.55320513e-01,   2.64102564e-02,  -3.18205128e-01,\n",
       "        -3.82692308e-02,  -9.46153846e-02,  -1.30641026e-01,\n",
       "        -4.42756410e-01,   1.42884615e-01,  -2.43589744e-03,\n",
       "        -5.62179487e-02,  -2.48076923e-02,  -8.27564103e-02,\n",
       "        -1.46410256e-01,   3.28205128e-02,  -1.70192308e-01,\n",
       "        -1.39166667e-01,  -1.26858974e-01,  -5.44871795e-03,\n",
       "        -2.28653846e-01,  -2.64871795e-01,  -2.06923077e-01,\n",
       "        -1.05320513e-01,   4.61538462e-03,  -1.47435897e-03,\n",
       "         1.62884615e-01,   3.21153846e-02,  -2.35641026e-01,\n",
       "        -7.62820513e-03,  -1.75897436e-01,  -4.48076923e-02,\n",
       "         1.06410256e-02,   1.04102564e-01,   1.51025641e-01,\n",
       "         1.97756410e-01,  -1.22756410e-01,   1.67435897e-01,\n",
       "        -1.40384615e-02,   2.30128205e-02,  -1.83333333e-02,\n",
       "        -2.73717949e-02,  -1.76538462e-01,   2.17371795e-01,\n",
       "        -1.15000000e-01,  -2.46794872e-02,   1.55320513e-01,\n",
       "         2.00641026e-01,   9.05769231e-02,   5.99358974e-02,\n",
       "         8.39743590e-03,  -1.17692308e-01,   2.60256410e-01,\n",
       "        -9.36538462e-02,  -7.23717949e-02,   1.06730769e-01,\n",
       "         1.64294872e-01,  -1.17371795e-01,  -1.44807692e-01,\n",
       "        -1.58397436e-01,  -3.18589744e-01,  -4.11538462e-02,\n",
       "        -3.07051282e-02,  -1.43333333e-01,  -2.04166667e-01,\n",
       "        -5.25000000e-02,   8.33333333e-04,  -1.95641026e-01,\n",
       "         1.21987179e-01,   1.34615385e-02,  -2.86538462e-02,\n",
       "         4.10384615e-01,  -3.65256410e-01,  -2.51666667e-01,\n",
       "        -3.21730769e-01,  -1.28653846e-01,  -1.30256410e-01,\n",
       "        -3.78846154e-02,   3.98076923e-02,   8.41666667e-02,\n",
       "        -3.25512821e-01,  -9.32692308e-02,   2.13653846e-01,\n",
       "         1.32628205e-01,  -1.06602564e-01,   4.53205128e-02,\n",
       "         2.10128205e-01,   1.30448718e-01,  -1.00192308e-01,\n",
       "        -3.29487179e-02,  -2.41666667e-02,  -7.02564103e-02,\n",
       "         6.17948718e-02,  -2.14871795e-01,   8.14102564e-03,\n",
       "        -3.05641026e-01,  -1.60769231e-01,  -2.59102564e-01,\n",
       "         4.30769231e-02,  -1.42948718e-01,  -1.33333333e-02,\n",
       "        -2.79487179e-02,  -6.51923077e-02,  -2.69230769e-01,\n",
       "         1.31346154e-01,  -3.00641026e-02,   1.65064103e-01,\n",
       "         5.83333333e-02,  -1.51666667e-01,   5.41666667e-02,\n",
       "        -2.50000000e-01,  -2.86474359e-01,  -3.01474359e-01,\n",
       "        -9.57051282e-02,  -3.26153846e-01,  -1.43141026e-01,\n",
       "        -5.28205128e-02,  -1.08397436e-01,   1.22435897e-02,\n",
       "        -8.76923077e-02,  -1.36538462e-02,  -1.16923077e-01,\n",
       "        -1.39038462e-01,   1.86410256e-01,   3.19230769e-02,\n",
       "        -3.45320513e-01,   7.83974359e-02,  -1.00000000e-01,\n",
       "        -2.28205128e-02,   1.56923077e-01,  -1.08717949e-01,\n",
       "        -1.29294872e-01,   4.21794872e-02,   2.87820513e-02,\n",
       "         2.91666667e-01,  -2.03910256e-01,   5.89743590e-02,\n",
       "        -3.36858974e-01,  -1.90192308e-01,  -1.30897436e-01,\n",
       "         9.00641026e-02,   2.19038462e-01,   1.99935897e-01,\n",
       "         4.80769231e-02,  -8.32051282e-02,  -1.40384615e-01,\n",
       "        -7.18589744e-02,   1.41730769e-01,  -1.86153846e-01,\n",
       "         3.58974359e-02,  -8.71794872e-02,  -1.53653846e-01,\n",
       "        -1.67756410e-01,   7.94230769e-02,  -1.75448718e-01,\n",
       "        -1.47307692e-01,  -1.75961538e-01,   1.60320513e-01,\n",
       "         8.00000000e-02,  -1.76923077e-01,  -2.47628205e-01,\n",
       "         1.92692308e-01,   1.63461538e-02,  -1.45512821e-02,\n",
       "         1.43012821e-01,   2.96153846e-02,   9.03205128e-02,\n",
       "        -1.10641026e-01,  -2.04102564e-01,  -3.32051282e-01,\n",
       "         2.28653846e-01,   3.67307692e-02,  -2.81923077e-01,\n",
       "        -6.53846154e-02,   1.38525641e-01,  -2.14615385e-01,\n",
       "         1.36538462e-01,  -2.62820513e-03,   1.16410256e-01,\n",
       "         1.22948718e-01,  -8.87179487e-02,   2.14102564e-02,\n",
       "        -5.00000000e-02,  -1.30897436e-01,   2.21794872e-02,\n",
       "        -6.82051282e-02,  -2.99358974e-01,   9.01282051e-02,\n",
       "        -2.24166667e-01,  -2.23910256e-01,   9.21794872e-02,\n",
       "        -2.31346154e-01,  -2.20000000e-01,  -1.55769231e-01,\n",
       "         1.07628205e-01,  -5.56410256e-02,  -9.87179487e-03,\n",
       "        -7.30128205e-02,  -3.04487179e-02,  -1.46923077e-01,\n",
       "        -6.15384615e-02,  -2.35256410e-02,   2.84935897e-01,\n",
       "        -2.01025641e-01,  -6.79487179e-03,  -2.96153846e-02,\n",
       "         3.46153846e-03,  -4.31474359e-01,  -1.20448718e-01,\n",
       "         4.27564103e-02,  -2.71538462e-01,  -1.56346154e-01,\n",
       "        -2.28653846e-01,  -1.14679487e-01,   4.50641026e-02,\n",
       "        -2.01025641e-01,  -5.08333333e-02,   4.74358974e-02,\n",
       "        -6.60256410e-03,  -9.87820513e-02,  -1.10384615e-01,\n",
       "        -2.94230769e-02,   4.42307692e-02,  -3.83974359e-02,\n",
       "        -2.15384615e-02,   1.26794872e-01,  -1.98461538e-01,\n",
       "        -1.97756410e-01,   6.14102564e-02,  -1.04038462e-01,\n",
       "         2.43012821e-01,   1.69679487e-01,   2.52884615e-01,\n",
       "         3.29743590e-01,   1.82820513e-01,  -1.05128205e-01,\n",
       "        -1.57051282e-02,  -2.30320513e-01,   1.22820513e-01,\n",
       "        -2.35128205e-01,  -1.37884615e-01,  -1.31282051e-01,\n",
       "        -8.66025641e-02,  -2.88589744e-01,  -1.87820513e-02,\n",
       "        -3.28525641e-01,   2.55128205e-02,   7.04487179e-02,\n",
       "        -3.61538462e-02,  -1.13205128e-01,   5.25641026e-03,\n",
       "        -4.22435897e-02,   6.04487179e-02,   2.28269231e-01,\n",
       "        -4.17820513e-01,   8.56410256e-02,  -6.19230769e-02,\n",
       "        -2.06538462e-01,  -1.84807692e-01,   1.27628205e-01,\n",
       "         2.39615385e-01,  -2.63333333e-01,  -1.65000000e-01,\n",
       "        -2.19615385e-01,  -1.23589744e-01,   9.26923077e-02,\n",
       "         4.90384615e-02,   9.76923077e-02,  -7.76282051e-02,\n",
       "        -9.62820513e-02,  -1.13846154e-01,  -2.18269231e-01,\n",
       "        -1.65256410e-01,  -2.38141026e-01,  -1.37564103e-01,\n",
       "        -1.92307692e-04,   4.86538462e-02,   2.19230769e-02,\n",
       "        -1.16602564e-01,   2.07051282e-02,  -4.48076923e-02,\n",
       "        -1.76153846e-01,   4.01923077e-02,   2.74230769e-01,\n",
       "        -2.78269231e-01,  -6.45512821e-02,  -1.58141026e-01,\n",
       "         2.69679487e-01,  -3.75000000e-02,   3.88461538e-02,\n",
       "         4.87820513e-02,  -9.68589744e-02,  -4.47435897e-02,\n",
       "        -3.15961538e-01,  -1.33974359e-01,  -8.18589744e-02,\n",
       "        -5.53205128e-02,   2.37179487e-02,  -9.33333333e-02,\n",
       "        -3.88461538e-02,  -6.22435897e-02,  -1.06474359e-01,\n",
       "        -3.67628205e-01,   2.93974359e-01,  -3.99358974e-02,\n",
       "        -3.06410256e-01,  -2.67692308e-01,   3.65384615e-02,\n",
       "        -1.25000000e-01,  -1.50000000e-02,   5.58974359e-02,\n",
       "         3.51923077e-02,   1.19358974e-01,  -3.00000000e-01,\n",
       "        -6.66666667e-03,  -1.41025641e-01,  -2.64166667e-01,\n",
       "        -5.04487179e-02,  -1.68397436e-01,  -3.02756410e-01,\n",
       "        -9.48717949e-02,  -5.66025641e-02,   3.62307692e-01,\n",
       "         4.17948718e-02,   3.48076923e-02,  -1.45128205e-01,\n",
       "        -5.12371795e-01,   3.73076923e-02,   7.96794872e-02,\n",
       "        -2.01474359e-01,  -3.15320513e-01,  -3.57692308e-02,\n",
       "         3.55128205e-02,   1.62820513e-01,   1.86987179e-01,\n",
       "         1.79487179e-03,   5.46571335e-18,  -5.75000000e-02,\n",
       "        -1.89102564e-02,   1.86410256e-01,  -1.93397436e-01,\n",
       "         2.68589744e-02,   2.05000000e-01,  -1.34679487e-01,\n",
       "        -4.14935897e-01,  -1.23910256e-01,   1.57756410e-01,\n",
       "        -1.41666667e-02,   1.25576923e-01,   1.36538462e-01,\n",
       "         2.01923077e-02,  -1.82756410e-01,  -1.25320513e-01,\n",
       "         1.32115385e-01,  -6.71153846e-02,  -1.25448718e-01,\n",
       "         5.85897436e-02,   1.10576923e-01,   3.21153846e-02,\n",
       "        -5.89743590e-02,  -3.09743590e-01,  -1.09615385e-02,\n",
       "        -5.60000000e-01,   1.17051282e-01,   1.32500000e-01,\n",
       "        -2.59935897e-01,  -1.40384615e-02,  -2.17307692e-02,\n",
       "        -4.34615385e-02,   9.35897436e-03,   4.41025641e-02,\n",
       "        -1.63076923e-01,   2.11410256e-01,  -3.23397436e-01,\n",
       "         8.17307692e-02,  -2.23076923e-02,   4.85897436e-02,\n",
       "         7.33333333e-02,   1.10897436e-02,   7.62179487e-02,\n",
       "         1.05897436e-01,   2.24423077e-01,  -5.94230769e-02,\n",
       "         4.83974359e-02,  -2.20000000e-01,  -1.43141026e-01,\n",
       "         1.21282051e-01,  -2.05320513e-01,  -1.48397436e-01,\n",
       "        -1.53141026e-01,  -5.62820513e-02,   2.50833333e-01,\n",
       "        -1.52820513e-01,  -2.34102564e-01,  -4.35000000e-01,\n",
       "        -1.35833333e-01,   1.54423077e-01,   2.33717949e-01,\n",
       "        -3.16025641e-02,  -9.49358974e-02,  -3.31410256e-02,\n",
       "        -3.33141026e-01,  -1.46602564e-01,  -7.73717949e-02,\n",
       "         6.85897436e-02,   1.95576923e-01,  -6.27564103e-02,\n",
       "         2.11538462e-02,  -3.13141026e-01,   9.35897436e-02,\n",
       "         7.13461538e-02,  -4.29487179e-03,  -1.61025641e-01,\n",
       "        -5.05769231e-02,  -2.53846154e-02,  -1.68910256e-01,\n",
       "        -5.28205128e-02,  -9.93589744e-02,   1.29038462e-01,\n",
       "        -4.03846154e-03,  -3.28461538e-01,   3.17948718e-01,\n",
       "         9.90384615e-02,  -1.61858974e-01,  -5.28525641e-01,\n",
       "         6.51923077e-02,  -3.14038462e-01,  -1.83653846e-01,\n",
       "         9.03846154e-03,  -1.13653846e-01,   1.63461538e-02,\n",
       "        -2.18333333e-01,   2.14743590e-02,  -8.16025641e-02,\n",
       "        -9.02564103e-02,  -1.92948718e-01,  -6.44871795e-02,\n",
       "         2.44807692e-01,  -1.46474359e-01,   2.00705128e-01,\n",
       "         4.69551282e-01,   1.35384615e-01,   1.29487179e-01,\n",
       "        -4.83974359e-02,   1.37051282e-01,  -1.25961538e-01,\n",
       "        -1.64743590e-01,   1.02243590e-01,   7.41025641e-02,\n",
       "         1.99166667e-01,   6.28205128e-03,   7.46153846e-02,\n",
       "         6.85256410e-02,   5.26282051e-02,   2.33910256e-01,\n",
       "        -2.41602564e-01,   1.53846154e-02,   1.92243590e-01,\n",
       "         5.37179487e-02,  -6.98076923e-02,  -1.35128205e-01,\n",
       "        -1.32051282e-02,  -4.29487179e-02,  -9.23717949e-02,\n",
       "         8.77564103e-02,  -3.41666667e-02,   1.22435897e-02,\n",
       "        -3.25641026e-01,  -5.03205128e-02,  -4.52564103e-02,\n",
       "        -4.92628205e-01,  -3.32243590e-01,   1.46346154e-01,\n",
       "         8.31410256e-02,   3.22243590e-01,   9.48717949e-02,\n",
       "        -1.91089744e-01,   2.86923077e-01,   7.56410256e-03,\n",
       "         1.96089744e-01,   3.67948718e-02,   2.39487179e-01,\n",
       "        -2.16666667e-02,   7.49358974e-02,   1.23653846e-01,\n",
       "         9.74358974e-03,  -8.36538462e-02,  -4.71153846e-02,\n",
       "        -2.69294872e-01,   9.95512821e-02,   7.55128205e-02,\n",
       "        -5.74358974e-02,   1.65961538e-01,   2.00769231e-01,\n",
       "        -3.10961538e-01,  -1.06794872e-01,  -1.23333333e-01,\n",
       "        -2.60897436e-01,  -1.19679487e-01,   8.47435897e-02,\n",
       "         4.48717949e-02,  -1.18717949e-01,   6.43589744e-02,\n",
       "         1.08397436e-01,  -1.19358974e-01,  -1.31410256e-02,\n",
       "        -7.52564103e-02,  -7.98717949e-02,  -1.19358974e-01,\n",
       "         1.34935897e-01,   8.32692308e-02,  -3.03269231e-01,\n",
       "         9.25000000e-02,  -5.46794872e-02,  -2.22115385e-01,\n",
       "        -6.34615385e-03,  -2.03205128e-02,  -4.56794872e-01,\n",
       "        -2.73653846e-01,   1.62435897e-01,  -1.99551282e-01,\n",
       "        -1.25384615e-01,  -1.26666667e-01,  -2.77564103e-02,\n",
       "        -3.61858974e-01,  -2.96794872e-01,  -1.51153846e-01,\n",
       "        -5.39743590e-02,   1.36538462e-01,   9.64102564e-02,\n",
       "         2.32500000e-01,   1.17307692e-02,  -2.63333333e-01,\n",
       "         8.51923077e-02,  -1.91217949e-01,  -1.21089744e-01,\n",
       "        -1.06410256e-01,   2.18397436e-01,  -2.28269231e-01])"
      ]
     },
     "execution_count": 13,
     "metadata": {},
     "output_type": "execute_result"
    }
   ],
   "source": [
    "# Simulated random values\n",
    "mr.sim"
   ]
  },
  {
   "cell_type": "markdown",
   "metadata": {},
   "source": [
    "We can plot the empirical inference easily using `pandas` and a bit of `matplotlib`:"
   ]
  },
  {
   "cell_type": "code",
   "execution_count": 14,
   "metadata": {
    "collapsed": false
   },
   "outputs": [
    {
     "data": {
      "text/plain": [
       "<matplotlib.text.Text at 0x58ff56db00>"
      ]
     },
     "execution_count": 14,
     "metadata": {},
     "output_type": "execute_result"
    },
    {
     "data": {
      "image/png": "[encoded data removed]",
      "text/plain": [
       "<matplotlib.figure.Figure at 0x58fdda9550>"
      ]
     },
     "metadata": {},
     "output_type": "display_data"
    }
   ],
   "source": [
    "srv = pd.Series(mr.sim)\n",
    "f = figure()\n",
    "ax = f.add_subplot(111)\n",
    "srv.plot(kind='kde', ax=ax)\n",
    "axvline(mr.I, color='r')\n",
    "xlabel('I')\n",
    "ylabel('f(I)')\n",
    "title('Empirical distribution and value of $Ir$')"
   ]
  },
  {
   "cell_type": "code",
   "execution_count": 15,
   "metadata": {
    "collapsed": false
   },
   "outputs": [
    {
     "name": "stdout",
     "output_type": "stream",
     "text": [
      "\n",
      "Moran's I value is: 0.8400\n"
     ]
    },
    {
     "data": {
      "image/png": "[encoded data removed]",
      "text/plain": [
       "<matplotlib.figure.Figure at 0x58ff52e518>"
      ]
     },
     "metadata": {},
     "output_type": "display_data"
    }
   ],
   "source": [
    "mp = ps.Moran(yp.flatten(), w)\n",
    "srv = pd.Series(mp.sim)\n",
    "f = figure()\n",
    "ax = f.add_subplot(111)\n",
    "srv.plot(kind='kde', ax=ax)\n",
    "axvline(mp.I, color='r')\n",
    "xlabel('I')\n",
    "ylabel('f(I)')\n",
    "title('Empirical distribution and value of $I$')\n",
    "print(\"\")\n",
    "print(\"Moran's I value is: %.4f\"%mp.I)"
   ]
  },
  {
   "cell_type": "code",
   "execution_count": 16,
   "metadata": {
    "collapsed": false
   },
   "outputs": [
    {
     "name": "stdout",
     "output_type": "stream",
     "text": [
      "\n",
      "Moran's I value is: -1.0000\n"
     ]
    },
    {
     "data": {
      "image/png": "[encoded data removed]",
      "text/plain": [
       "<matplotlib.figure.Figure at 0x58fdd69908>"
      ]
     },
     "metadata": {},
     "output_type": "display_data"
    }
   ],
   "source": [
    "mn = ps.Moran(yn.flatten(), w)\n",
    "srv = pd.Series(mn.sim)\n",
    "f = figure()\n",
    "ax = f.add_subplot(111)\n",
    "srv.plot(kind='kde', ax=ax)\n",
    "axvline(mn.I, color='r')\n",
    "xlabel('I')\n",
    "ylabel('f(I)')\n",
    "title('Empirical distribution and value of $yn$')\n",
    "print(\"\")\n",
    "print(\"Moran's I value is: %.4f\"%mn.I)"
   ]
  },
  {
   "cell_type": "markdown",
   "metadata": {},
   "source": [
    "Now let's try Moran's I on the Amsterdam checkin data. Note that because we have already created the weights (see the notebook `PySAL_weights` in the same folder), we can simply load them."
   ]
  },
  {
   "cell_type": "code",
   "execution_count": 17,
   "metadata": {
    "collapsed": false
   },
   "outputs": [
    {
     "name": "stdout",
     "output_type": "stream",
     "text": [
      "WARNING: there is one disconnected observation (no neighbors)\n",
      "Island id:  ['27']\n",
      "WARNING:  27  is an island (no neighbors)\n"
     ]
    },
    {
     "data": {
      "text/plain": [
       "<pysal.weights.weights.W at 0x58ff704a90>"
      ]
     },
     "execution_count": 17,
     "metadata": {},
     "output_type": "execute_result"
    }
   ],
   "source": [
    "w = ps.open('data/adam.gal').read()\n",
    "w.transform = 'R'\n",
    "w"
   ]
  },
  {
   "cell_type": "markdown",
   "metadata": {},
   "source": [
    "Let's try it on the total volume of checkins by neighborhood:"
   ]
  },
  {
   "cell_type": "code",
   "execution_count": 18,
   "metadata": {
    "collapsed": false
   },
   "outputs": [],
   "source": [
    "total = np.array(ps.open('data/amsterdam_hoods.dbf').by_col('total'))"
   ]
  },
  {
   "cell_type": "code",
   "execution_count": 19,
   "metadata": {
    "collapsed": false
   },
   "outputs": [
    {
     "name": "stdout",
     "output_type": "stream",
     "text": [
      "\n",
      "Moran's I value is: 0.3748\n"
     ]
    },
    {
     "data": {
      "image/png": "[encoded data removed]",
      "text/plain": [
       "<matplotlib.figure.Figure at 0x58ff525f98>"
      ]
     },
     "metadata": {},
     "output_type": "display_data"
    }
   ],
   "source": [
    "mi_adam = ps.Moran(total, w)\n",
    "srv = pd.Series(mi_adam.sim)\n",
    "f = figure()\n",
    "ax = f.add_subplot(111)\n",
    "srv.plot(kind='kde', ax=ax)\n",
    "axvline(mi_adam.I, color='r')\n",
    "xlabel('I')\n",
    "ylabel('f(I)')\n",
    "title('Empirical distribution and value of total checkins in Amsterdam')\n",
    "print(\"\")\n",
    "print(\"Moran's I value is: %.4f\"%mi_adam.I)"
   ]
  },
  {
   "cell_type": "markdown",
   "metadata": {},
   "source": [
    "### Scatter plot\n",
    "\n",
    "One way to graphically display and understand Moran's I is through the so called `scatter plot`, that represents the values of `y` against their spatially lagged values (`wy`). This is straightforward to plot with `matplotlib`. An interesting addition is to include a fitted line, whose slope corresponds to Moran's I."
   ]
  },
  {
   "cell_type": "code",
   "execution_count": 20,
   "metadata": {
    "collapsed": false
   },
   "outputs": [
    {
     "data": {
      "text/plain": [
       "<matplotlib.text.Text at 0x58ff798940>"
      ]
     },
     "execution_count": 20,
     "metadata": {},
     "output_type": "execute_result"
    },
    {
     "data": {
      "image/png": "[encoded data removed]",
      "text/plain": [
       "<matplotlib.figure.Figure at 0x58ff769550>"
      ]
     },
     "metadata": {},
     "output_type": "display_data"
    }
   ],
   "source": [
    "w_total = ps.lag_spatial(w, total)\n",
    "scatter(total, w_total, marker='.', s=20, alpha=1, color='k')\n",
    "fit = ps.spreg.OLS(total[:, None], total[:, None])\n",
    "plot(total[:, None], fit.predy, color='r')\n",
    "title(\"Slope coefficient: %.4f\"%fit.betas[1])"
   ]
  },
  {
   "cell_type": "code",
   "execution_count": 21,
   "metadata": {
    "collapsed": false
   },
   "outputs": [
    {
     "data": {
      "text/plain": [
       "0.37484886591924182"
      ]
     },
     "execution_count": 21,
     "metadata": {},
     "output_type": "execute_result"
    }
   ],
   "source": [
    "mi_adam.I"
   ]
  },
  {
   "cell_type": "markdown",
   "metadata": {},
   "source": [
    "#### On your own\n",
    "\n",
    "Try to explore the change of spatial autocorrelation in the volume of checkins over the different hours of the day."
   ]
  },
  {
   "cell_type": "markdown",
   "metadata": {},
   "source": [
    "## Local spatial autocorrelation\n",
    "\n",
    "[Anselin, 1995. *Local Indicators of Spatial Association*](http://onlinelibrary.wiley.com/doi/10.1111/j.1538-4632.1995.tb00338.x/abstract)"
   ]
  },
  {
   "cell_type": "code",
   "execution_count": 22,
   "metadata": {
    "collapsed": false
   },
   "outputs": [],
   "source": [
    "from pysal.contrib.viz import mapping as viz"
   ]
  },
  {
   "cell_type": "code",
   "execution_count": 23,
   "metadata": {
    "collapsed": false
   },
   "outputs": [],
   "source": [
    "lisa_total = ps.Moran_Local(total, w)"
   ]
  },
  {
   "cell_type": "code",
   "execution_count": 24,
   "metadata": {
    "collapsed": false
   },
   "outputs": [
    {
     "data": {
      "text/plain": [
       "array([  6.00928348e+00,   4.61049219e+00,   4.21625690e+00,\n",
       "         5.85778358e+00,   1.85434314e+00,   6.28629394e-01,\n",
       "         7.82059246e-01,   2.91992050e+00,   3.79614269e-01,\n",
       "         9.00362375e-02,  -3.15884500e-02,  -3.87707864e-01,\n",
       "        -1.46755548e-01,   2.16206112e-02,   1.51768095e-01,\n",
       "         5.85137017e-02,  -3.55651247e-03,  -2.00495239e-02,\n",
       "         2.53094637e-01,   2.65744884e-02,  -3.85914527e-01,\n",
       "         1.07817032e-01,  -2.00100954e-01,  -1.28315718e-01,\n",
       "        -1.24848021e-01,  -2.85310661e-01,  -1.20589376e-01,\n",
       "        -0.00000000e+00,   3.46222202e-01,  -1.81243281e-01,\n",
       "         3.83573127e-02,   2.27087403e-01,   9.07483942e-02,\n",
       "         2.19138381e-01,   2.63422429e-01,   2.56582190e-01,\n",
       "         2.01213118e-01,  -4.74572686e-01,  -5.88628830e-01,\n",
       "         5.08278164e-01,   4.97589107e-01,   4.93393442e-01,\n",
       "         3.06105138e-01,   2.22173819e-01,   4.87447098e-01,\n",
       "         4.91732036e-01,   4.35930530e-01,   3.49562356e-01,\n",
       "         1.14567123e-01,   1.88236539e-01,   2.02206393e-01,\n",
       "         2.15329787e-01,   8.72422953e-02,   2.63652616e-01,\n",
       "         4.40349543e-01,   5.02263000e-01,   3.88195119e-01,\n",
       "         7.75548690e-02,   1.67674606e-01,   3.54347065e-01,\n",
       "         1.84807572e-01,  -8.81867741e-02,   1.47323208e-01,\n",
       "        -6.50123144e-03,   3.60884988e-03,   7.43432590e-01,\n",
       "         1.97889741e-01,   1.18667866e-02,   1.68373918e-01,\n",
       "         3.17586835e-02,   1.64696808e-01,   4.21305299e-01,\n",
       "         1.58410835e-01,  -2.99822873e-02,   2.50045741e-02,\n",
       "        -1.44443287e-01,  -6.24732651e-02,  -1.36036262e-01,\n",
       "        -3.97822541e-01,   1.21608637e-03,   7.31089535e-01,\n",
       "         2.24929241e-02,  -8.04512891e-02,   3.05613345e-02,\n",
       "         1.04569058e-01,  -2.68784057e-02,   7.42422057e-01,\n",
       "        -7.16215299e-03,  -1.21280935e-01,  -5.37466361e-01,\n",
       "         1.43591500e-02,  -6.84062578e-02,  -8.05244122e-02,\n",
       "        -7.60828884e-02,  -1.29253720e-01,   2.23350448e-03])"
      ]
     },
     "execution_count": 24,
     "metadata": {},
     "output_type": "execute_result"
    }
   ],
   "source": [
    "lisa_total.Is"
   ]
  },
  {
   "cell_type": "code",
   "execution_count": 25,
   "metadata": {
    "collapsed": false
   },
   "outputs": [
    {
     "data": {
      "text/plain": [
       "array([ 0.002,  0.001,  0.001,  0.001,  0.001,  0.007,  0.085,  0.005,\n",
       "        0.009,  0.121,  0.321,  0.181,  0.226,  0.362,  0.211,  0.367,\n",
       "        0.444,  0.381,  0.203,  0.327,  0.056,  0.145,  0.064,  0.205,\n",
       "        0.256,  0.287,  0.292,  0.001,  0.225,  0.258,  0.228,  0.215,\n",
       "        0.23 ,  0.039,  0.127,  0.066,  0.18 ,  0.068,  0.022,  0.011,\n",
       "        0.056,  0.001,  0.16 ,  0.304,  0.007,  0.002,  0.001,  0.043,\n",
       "        0.164,  0.246,  0.277,  0.28 ,  0.453,  0.067,  0.002,  0.011,\n",
       "        0.017,  0.281,  0.165,  0.135,  0.163,  0.298,  0.113,  0.376,\n",
       "        0.366,  0.234,  0.136,  0.422,  0.269,  0.198,  0.463,  0.303,\n",
       "        0.092,  0.343,  0.179,  0.17 ,  0.493,  0.319,  0.152,  0.392,\n",
       "        0.029,  0.231,  0.284,  0.482,  0.411,  0.351,  0.119,  0.476,\n",
       "        0.187,  0.078,  0.407,  0.283,  0.255,  0.198,  0.469,  0.247])"
      ]
     },
     "execution_count": 25,
     "metadata": {},
     "output_type": "execute_result"
    }
   ],
   "source": [
    "lisa_total.p_sim"
   ]
  },
  {
   "cell_type": "code",
   "execution_count": 26,
   "metadata": {
    "collapsed": false
   },
   "outputs": [
    {
     "name": "stderr",
     "output_type": "stream",
     "text": [
      "C:\\Anaconda\\envs\\py3\\lib\\site-packages\\matplotlib\\artist.py:210: MatplotlibDeprecationWarning: This has been deprecated in mpl 1.5, please use the\n",
      "axes property.  A removal date has not been set.\n",
      "  warnings.warn(_get_axes_msg, mplDeprecation, stacklevel=1)\n",
      "C:\\Anaconda\\envs\\py3\\lib\\site-packages\\matplotlib\\artist.py:221: MatplotlibDeprecationWarning: This has been deprecated in mpl 1.5, please use the\n",
      "axes property.  A removal date has not been set.\n",
      "  warnings.warn(_get_axes_msg, mplDeprecation, stacklevel=1)\n"
     ]
    },
    {
     "ename": "ValueError",
     "evalue": "Can not reset the axes.  You are probably trying to re-use an artist in more than one Axes which is not supported",
     "output_type": "error",
     "traceback": [
      "\u001b[1;31m---------------------------------------------------------------------------\u001b[0m",
      "\u001b[1;31mValueError\u001b[0m                                Traceback (most recent call last)",
      "\u001b[1;32m<ipython-input-26-3536e8dab3a4>\u001b[0m in \u001b[0;36m<module>\u001b[1;34m()\u001b[0m\n\u001b[0;32m      1\u001b[0m \u001b[0mhoods\u001b[0m \u001b[1;33m=\u001b[0m \u001b[1;34m\"data/amsterdam_hoods.shp\"\u001b[0m\u001b[1;33m\u001b[0m\u001b[0m\n\u001b[1;32m----> 2\u001b[1;33m \u001b[0mviz\u001b[0m\u001b[1;33m.\u001b[0m\u001b[0mplot_lisa_cluster\u001b[0m\u001b[1;33m(\u001b[0m\u001b[0mhoods\u001b[0m\u001b[1;33m,\u001b[0m \u001b[0mlisa_total\u001b[0m\u001b[1;33m,\u001b[0m \u001b[0mtitle\u001b[0m\u001b[1;33m=\u001b[0m\u001b[1;34m\"LISA Cluster Map\"\u001b[0m\u001b[1;33m)\u001b[0m\u001b[1;33m\u001b[0m\u001b[0m\n\u001b[0m",
      "\u001b[1;32mC:\\Anaconda\\envs\\py3\\lib\\site-packages\\pysal\\contrib\\viz\\mapping.py\u001b[0m in \u001b[0;36mplot_lisa_cluster\u001b[1;34m(shp_link, lisa, p_thres, shp_type, title, legend, savein, figsize, dpi, alpha, leg_loc)\u001b[0m\n\u001b[0;32m    711\u001b[0m     \u001b[0mfig\u001b[0m \u001b[1;33m=\u001b[0m \u001b[0mplt\u001b[0m\u001b[1;33m.\u001b[0m\u001b[0mfigure\u001b[0m\u001b[1;33m(\u001b[0m\u001b[0mfigsize\u001b[0m\u001b[1;33m=\u001b[0m\u001b[0mfigsize\u001b[0m\u001b[1;33m)\u001b[0m\u001b[1;33m\u001b[0m\u001b[0m\n\u001b[0;32m    712\u001b[0m     \u001b[0max\u001b[0m \u001b[1;33m=\u001b[0m \u001b[0mfig\u001b[0m\u001b[1;33m.\u001b[0m\u001b[0madd_subplot\u001b[0m\u001b[1;33m(\u001b[0m\u001b[1;36m111\u001b[0m\u001b[1;33m)\u001b[0m\u001b[1;33m\u001b[0m\u001b[0m\n\u001b[1;32m--> 713\u001b[1;33m     \u001b[0max\u001b[0m \u001b[1;33m=\u001b[0m \u001b[0msetup_ax\u001b[0m\u001b[1;33m(\u001b[0m\u001b[1;33m[\u001b[0m\u001b[0mlisa_obj\u001b[0m\u001b[1;33m]\u001b[0m\u001b[1;33m,\u001b[0m \u001b[0max\u001b[0m\u001b[1;33m)\u001b[0m\u001b[1;33m\u001b[0m\u001b[0m\n\u001b[0m\u001b[0;32m    714\u001b[0m     \u001b[1;31m# Legend\u001b[0m\u001b[1;33m\u001b[0m\u001b[1;33m\u001b[0m\u001b[0m\n\u001b[0;32m    715\u001b[0m     \u001b[1;32mif\u001b[0m \u001b[0mlegend\u001b[0m\u001b[1;33m:\u001b[0m\u001b[1;33m\u001b[0m\u001b[0m\n",
      "\u001b[1;32mC:\\Anaconda\\envs\\py3\\lib\\site-packages\\pysal\\contrib\\viz\\mapping.py\u001b[0m in \u001b[0;36msetup_ax\u001b[1;34m(polyCos_list, ax)\u001b[0m\n\u001b[0;32m    223\u001b[0m         \u001b[0mpolyCo\u001b[0m\u001b[1;33m.\u001b[0m\u001b[0mget_axes\u001b[0m\u001b[1;33m(\u001b[0m\u001b[1;33m)\u001b[0m\u001b[1;33m.\u001b[0m\u001b[0mset_xlim\u001b[0m\u001b[1;33m(\u001b[0m\u001b[0max\u001b[0m\u001b[1;33m.\u001b[0m\u001b[0mget_xlim\u001b[0m\u001b[1;33m(\u001b[0m\u001b[1;33m)\u001b[0m\u001b[1;33m)\u001b[0m\u001b[1;33m\u001b[0m\u001b[0m\n\u001b[0;32m    224\u001b[0m         \u001b[0mpolyCo\u001b[0m\u001b[1;33m.\u001b[0m\u001b[0mget_axes\u001b[0m\u001b[1;33m(\u001b[0m\u001b[1;33m)\u001b[0m\u001b[1;33m.\u001b[0m\u001b[0mset_ylim\u001b[0m\u001b[1;33m(\u001b[0m\u001b[0max\u001b[0m\u001b[1;33m.\u001b[0m\u001b[0mget_ylim\u001b[0m\u001b[1;33m(\u001b[0m\u001b[1;33m)\u001b[0m\u001b[1;33m)\u001b[0m\u001b[1;33m\u001b[0m\u001b[0m\n\u001b[1;32m--> 225\u001b[1;33m         \u001b[0max\u001b[0m\u001b[1;33m.\u001b[0m\u001b[0madd_collection\u001b[0m\u001b[1;33m(\u001b[0m\u001b[0mpolyCo\u001b[0m\u001b[1;33m)\u001b[0m\u001b[1;33m\u001b[0m\u001b[0m\n\u001b[0m\u001b[0;32m    226\u001b[0m     \u001b[0max\u001b[0m\u001b[1;33m.\u001b[0m\u001b[0mset_frame_on\u001b[0m\u001b[1;33m(\u001b[0m\u001b[1;32mFalse\u001b[0m\u001b[1;33m)\u001b[0m\u001b[1;33m\u001b[0m\u001b[0m\n\u001b[0;32m    227\u001b[0m     \u001b[0max\u001b[0m\u001b[1;33m.\u001b[0m\u001b[0maxes\u001b[0m\u001b[1;33m.\u001b[0m\u001b[0mget_yaxis\u001b[0m\u001b[1;33m(\u001b[0m\u001b[1;33m)\u001b[0m\u001b[1;33m.\u001b[0m\u001b[0mset_visible\u001b[0m\u001b[1;33m(\u001b[0m\u001b[1;32mFalse\u001b[0m\u001b[1;33m)\u001b[0m\u001b[1;33m\u001b[0m\u001b[0m\n",
      "\u001b[1;32mC:\\Anaconda\\envs\\py3\\lib\\site-packages\\matplotlib\\axes\\_base.py\u001b[0m in \u001b[0;36madd_collection\u001b[1;34m(self, collection, autolim)\u001b[0m\n\u001b[0;32m   1664\u001b[0m             \u001b[0mcollection\u001b[0m\u001b[1;33m.\u001b[0m\u001b[0mset_label\u001b[0m\u001b[1;33m(\u001b[0m\u001b[1;34m'_collection%d'\u001b[0m \u001b[1;33m%\u001b[0m \u001b[0mlen\u001b[0m\u001b[1;33m(\u001b[0m\u001b[0mself\u001b[0m\u001b[1;33m.\u001b[0m\u001b[0mcollections\u001b[0m\u001b[1;33m)\u001b[0m\u001b[1;33m)\u001b[0m\u001b[1;33m\u001b[0m\u001b[0m\n\u001b[0;32m   1665\u001b[0m         \u001b[0mself\u001b[0m\u001b[1;33m.\u001b[0m\u001b[0mcollections\u001b[0m\u001b[1;33m.\u001b[0m\u001b[0mappend\u001b[0m\u001b[1;33m(\u001b[0m\u001b[0mcollection\u001b[0m\u001b[1;33m)\u001b[0m\u001b[1;33m\u001b[0m\u001b[0m\n\u001b[1;32m-> 1666\u001b[1;33m         \u001b[0mself\u001b[0m\u001b[1;33m.\u001b[0m\u001b[0m_set_artist_props\u001b[0m\u001b[1;33m(\u001b[0m\u001b[0mcollection\u001b[0m\u001b[1;33m)\u001b[0m\u001b[1;33m\u001b[0m\u001b[0m\n\u001b[0m\u001b[0;32m   1667\u001b[0m \u001b[1;33m\u001b[0m\u001b[0m\n\u001b[0;32m   1668\u001b[0m         \u001b[1;32mif\u001b[0m \u001b[0mcollection\u001b[0m\u001b[1;33m.\u001b[0m\u001b[0mget_clip_path\u001b[0m\u001b[1;33m(\u001b[0m\u001b[1;33m)\u001b[0m \u001b[1;32mis\u001b[0m \u001b[1;32mNone\u001b[0m\u001b[1;33m:\u001b[0m\u001b[1;33m\u001b[0m\u001b[0m\n",
      "\u001b[1;32mC:\\Anaconda\\envs\\py3\\lib\\site-packages\\matplotlib\\axes\\_base.py\u001b[0m in \u001b[0;36m_set_artist_props\u001b[1;34m(self, a)\u001b[0m\n\u001b[0;32m    863\u001b[0m             \u001b[0ma\u001b[0m\u001b[1;33m.\u001b[0m\u001b[0mset_transform\u001b[0m\u001b[1;33m(\u001b[0m\u001b[0mself\u001b[0m\u001b[1;33m.\u001b[0m\u001b[0mtransData\u001b[0m\u001b[1;33m)\u001b[0m\u001b[1;33m\u001b[0m\u001b[0m\n\u001b[0;32m    864\u001b[0m \u001b[1;33m\u001b[0m\u001b[0m\n\u001b[1;32m--> 865\u001b[1;33m         \u001b[0ma\u001b[0m\u001b[1;33m.\u001b[0m\u001b[0maxes\u001b[0m \u001b[1;33m=\u001b[0m \u001b[0mself\u001b[0m\u001b[1;33m\u001b[0m\u001b[0m\n\u001b[0m\u001b[0;32m    866\u001b[0m         \u001b[1;32mif\u001b[0m \u001b[0ma\u001b[0m\u001b[1;33m.\u001b[0m\u001b[0mmouseover\u001b[0m\u001b[1;33m:\u001b[0m\u001b[1;33m\u001b[0m\u001b[0m\n\u001b[0;32m    867\u001b[0m             \u001b[0mself\u001b[0m\u001b[1;33m.\u001b[0m\u001b[0mmouseover_set\u001b[0m\u001b[1;33m.\u001b[0m\u001b[0madd\u001b[0m\u001b[1;33m(\u001b[0m\u001b[0ma\u001b[0m\u001b[1;33m)\u001b[0m\u001b[1;33m\u001b[0m\u001b[0m\n",
      "\u001b[1;32mC:\\Anaconda\\envs\\py3\\lib\\site-packages\\matplotlib\\artist.py\u001b[0m in \u001b[0;36maxes\u001b[1;34m(self, new_axes)\u001b[0m\n\u001b[0;32m    235\u001b[0m         if (new_axes is not None and\n\u001b[0;32m    236\u001b[0m                 (self._axes is not None and new_axes != self._axes)):\n\u001b[1;32m--> 237\u001b[1;33m             raise ValueError(\"Can not reset the axes.  You are \"\n\u001b[0m\u001b[0;32m    238\u001b[0m                              \u001b[1;34m\"probably trying to re-use an artist \"\u001b[0m\u001b[1;33m\u001b[0m\u001b[0m\n\u001b[0;32m    239\u001b[0m                              \u001b[1;34m\"in more than one Axes which is not \"\u001b[0m\u001b[1;33m\u001b[0m\u001b[0m\n",
      "\u001b[1;31mValueError\u001b[0m: Can not reset the axes.  You are probably trying to re-use an artist in more than one Axes which is not supported"
     ]
    },
    {
     "data": {
      "image/png": "[encoded data removed]",
      "text/plain": [
       "<matplotlib.figure.Figure at 0x58ff78f3c8>"
      ]
     },
     "metadata": {},
     "output_type": "display_data"
    }
   ],
   "source": [
    "hoods = \"data/amsterdam_hoods.shp\"\n",
    "viz.plot_lisa_cluster(hoods, lisa_total, title=\"LISA Cluster Map\")"
   ]
  },
  {
   "cell_type": "code",
   "execution_count": null,
   "metadata": {
    "collapsed": true
   },
   "outputs": [],
   "source": []
  }
 ],
 "metadata": {
  "kernelspec": {
   "display_name": "Python 3",
   "language": "python",
   "name": "python3"
  },
  "language_info": {
   "codemirror_mode": {
    "name": "ipython",
    "version": 3
   },
   "file_extension": ".py",
   "mimetype": "text/x-python",
   "name": "python",
   "nbconvert_exporter": "python",
   "pygments_lexer": "ipython3",
   "version": "3.5.1"
  }
 },
 "nbformat": 4,
 "nbformat_minor": 0
}
